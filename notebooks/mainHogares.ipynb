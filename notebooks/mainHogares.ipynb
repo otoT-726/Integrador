{
 "cells": [
  {
   "cell_type": "code",
   "execution_count": 1,
   "id": "fa6ced39",
   "metadata": {},
   "outputs": [],
   "source": [
    "import sys\n",
    "sys.path.append(\"..\")\n",
    "from src.utils.rutas import project_path, data_path"
   ]
  },
  {
   "cell_type": "markdown",
   "id": "dbbae32e",
   "metadata": {},
   "source": [
    "**La siguiente celda crea el archivo de hogares cargando los datos de todos los archivos de hogares que se encuentren en la carpeta 'archivos'**"
   ]
  },
  {
   "cell_type": "code",
   "execution_count": 2,
   "id": "7886d964",
   "metadata": {},
   "outputs": [],
   "source": [
    "\n",
    "from src.utils.agregar_archivo import agregar_trimestre_completo_hogar\n",
    "from src.utils.crear_archivo_base import crear_hogar\n",
    "\n",
    "archivo_maestro = data_path / \"archivo_hogares.txt\"\n",
    "crear_hogar(archivo_maestro)\n",
    "for trimestre in data_path.glob(\"usu_hogar*\"):\n",
    "    agregar_trimestre_completo_hogar(trimestre)"
   ]
  }
 ],
 "metadata": {
  "kernelspec": {
   "display_name": "venv",
   "language": "python",
   "name": "python3"
  },
  "language_info": {
   "codemirror_mode": {
    "name": "ipython",
    "version": 3
   },
   "file_extension": ".py",
   "mimetype": "text/x-python",
   "name": "python",
   "nbconvert_exporter": "python",
   "pygments_lexer": "ipython3",
   "version": "3.12.9"
  }
 },
 "nbformat": 4,
 "nbformat_minor": 5
}
