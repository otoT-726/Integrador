{
 "cells": [
  {
   "cell_type": "code",
   "execution_count": 1,
   "id": "307dfea4",
   "metadata": {},
   "outputs": [],
   "source": [
    "import sys\n",
    "sys.path.append(\"..\")\n",
    "from src.utils.rutas import project_path, data_path"
   ]
  },
  {
   "cell_type": "markdown",
   "id": "06af23b4",
   "metadata": {},
   "source": [
    "**La siguiente celda crea el archivo de Individuos cargando los datos de todos los archivos de individuos que se encuentren en la carpeta 'archivos'**"
   ]
  },
  {
   "cell_type": "code",
   "execution_count": 2,
   "id": "2fe42650",
   "metadata": {},
   "outputs": [],
   "source": [
    "from src.utils.agregar_archivo import agregar_trimestre_completo_individuo\n",
    "from src.utils.crear_archivo_base import crear_individuo\n",
    "\n",
    "archivo_maestro = data_path / \"archivo_individuos.txt\"\n",
    "crear_individuo(archivo_maestro)\n",
    "for trimestre in data_path.glob(\"usu_individual*\"):\n",
    "    agregar_trimestre_completo_individuo(trimestre)"
   ]
  }
 ],
 "metadata": {
  "kernelspec": {
   "display_name": "venv",
   "language": "python",
   "name": "python3"
  },
  "language_info": {
   "codemirror_mode": {
    "name": "ipython",
    "version": 3
   },
   "file_extension": ".py",
   "mimetype": "text/x-python",
   "name": "python",
   "nbconvert_exporter": "python",
   "pygments_lexer": "ipython3",
   "version": "3.12.9"
  }
 },
 "nbformat": 4,
 "nbformat_minor": 5
}
